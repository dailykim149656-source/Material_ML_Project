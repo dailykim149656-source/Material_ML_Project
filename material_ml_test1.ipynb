{
  "nbformat": 4,
  "nbformat_minor": 0,
  "metadata": {
    "colab": {
      "provenance": [],
      "authorship_tag": "ABX9TyPRXoW+t6VvFIQOe6YZsryK",
      "include_colab_link": true
    },
    "kernelspec": {
      "name": "python3",
      "display_name": "Python 3"
    },
    "language_info": {
      "name": "python"
    }
  },
  "cells": [
    {
      "cell_type": "markdown",
      "metadata": {
        "id": "view-in-github",
        "colab_type": "text"
      },
      "source": [
        "<a href=\"https://colab.research.google.com/github/dailykim149656-source/Material_ML_Project/blob/main/material_ml_test1.ipynb\" target=\"_parent\"><img src=\"https://colab.research.google.com/assets/colab-badge.svg\" alt=\"Open In Colab\"/></a>"
      ]
    },
    {
      "cell_type": "code",
      "execution_count": 1,
      "metadata": {
        "colab": {
          "base_uri": "https://localhost:8080/"
        },
        "collapsed": true,
        "id": "9gZXET5o2GLJ",
        "outputId": "c0f628f8-e326-4cb2-c528-f44a451d3b93"
      },
      "outputs": [
        {
          "output_type": "stream",
          "name": "stdout",
          "text": [
            "Requirement already satisfied: pandas in /usr/local/lib/python3.12/dist-packages (2.2.2)\n",
            "Requirement already satisfied: numpy in /usr/local/lib/python3.12/dist-packages (2.0.2)\n",
            "Requirement already satisfied: scikit-learn in /usr/local/lib/python3.12/dist-packages (1.6.1)\n",
            "Requirement already satisfied: matplotlib in /usr/local/lib/python3.12/dist-packages (3.10.0)\n",
            "Requirement already satisfied: seaborn in /usr/local/lib/python3.12/dist-packages (0.13.2)\n",
            "Requirement already satisfied: python-dateutil>=2.8.2 in /usr/local/lib/python3.12/dist-packages (from pandas) (2.9.0.post0)\n",
            "Requirement already satisfied: pytz>=2020.1 in /usr/local/lib/python3.12/dist-packages (from pandas) (2025.2)\n",
            "Requirement already satisfied: tzdata>=2022.7 in /usr/local/lib/python3.12/dist-packages (from pandas) (2025.2)\n",
            "Requirement already satisfied: scipy>=1.6.0 in /usr/local/lib/python3.12/dist-packages (from scikit-learn) (1.16.1)\n",
            "Requirement already satisfied: joblib>=1.2.0 in /usr/local/lib/python3.12/dist-packages (from scikit-learn) (1.5.2)\n",
            "Requirement already satisfied: threadpoolctl>=3.1.0 in /usr/local/lib/python3.12/dist-packages (from scikit-learn) (3.6.0)\n",
            "Requirement already satisfied: contourpy>=1.0.1 in /usr/local/lib/python3.12/dist-packages (from matplotlib) (1.3.3)\n",
            "Requirement already satisfied: cycler>=0.10 in /usr/local/lib/python3.12/dist-packages (from matplotlib) (0.12.1)\n",
            "Requirement already satisfied: fonttools>=4.22.0 in /usr/local/lib/python3.12/dist-packages (from matplotlib) (4.59.2)\n",
            "Requirement already satisfied: kiwisolver>=1.3.1 in /usr/local/lib/python3.12/dist-packages (from matplotlib) (1.4.9)\n",
            "Requirement already satisfied: packaging>=20.0 in /usr/local/lib/python3.12/dist-packages (from matplotlib) (25.0)\n",
            "Requirement already satisfied: pillow>=8 in /usr/local/lib/python3.12/dist-packages (from matplotlib) (11.3.0)\n",
            "Requirement already satisfied: pyparsing>=2.3.1 in /usr/local/lib/python3.12/dist-packages (from matplotlib) (3.2.3)\n",
            "Requirement already satisfied: six>=1.5 in /usr/local/lib/python3.12/dist-packages (from python-dateutil>=2.8.2->pandas) (1.17.0)\n"
          ]
        }
      ],
      "source": [
        "# 셀 1: 라이브러리 설치 및 불러오기\n",
        "!pip install pandas numpy scikit-learn matplotlib seaborn\n",
        "\n",
        "import pandas as pd\n",
        "import numpy as np\n",
        "import re"
      ]
    },
    {
      "cell_type": "code",
      "source": [
        "# 셀 2: 데이터 불러오기\n",
        "data_material = pd.read_csv('/content/ceramic_data_20200917/한국세라믹기술원_세라믹소재정보은행 소재 정보_20200917.csv',\n",
        "                            encoding='cp949', low_memory=False)\n",
        "data_property = pd.read_csv('/content/ceramic_data_20200917/한국세라믹기술원_세라믹소재정보은행 물성 정보_20200917.csv',\n",
        "                            encoding='cp949', low_memory=False)\n",
        "data_detail = pd.read_csv('/content/ceramic_data_20200917/한국세라믹기술원_세라믹소재정보은행 변화물성 정보_20200917.csv',\n",
        "                          encoding='cp949', low_memory=False)"
      ],
      "metadata": {
        "id": "AbZHolvq57Uh"
      },
      "execution_count": 2,
      "outputs": []
    },
    {
      "cell_type": "code",
      "source": [
        "# 셀 5: sintering density인 물성시퀀스 추출\n",
        "target_seq = data_detail[\n",
        "    data_detail['측정변수명'].str.lower()=='sintering density'\n",
        "]['물성시퀀스'].unique()"
      ],
      "metadata": {
        "id": "LSqe2VvU-LBR"
      },
      "execution_count": 3,
      "outputs": []
    },
    {
      "cell_type": "code",
      "source": [
        "# 셀 6: 소재정보에서 해당 소재만 필터\n",
        "filtered_material = data_material[\n",
        "    data_material['소재시퀀스'].isin(target_seq)\n",
        "].reset_index(drop=True)"
      ],
      "metadata": {
        "id": "vzSzZruF-T9E"
      },
      "execution_count": 4,
      "outputs": []
    },
    {
      "cell_type": "code",
      "source": [
        "# 셀 7: 물성 정보 + 변화물성 정보 병합\n",
        "merged_prop = pd.merge(\n",
        "    data_property, data_detail,\n",
        "    on='물성시퀀스', how='inner'\n",
        ")"
      ],
      "metadata": {
        "id": "eR_iLHCb_BhN"
      },
      "execution_count": 5,
      "outputs": []
    },
    {
      "cell_type": "code",
      "source": [
        "# 셀 8: density_target 정의 (단위 g/cm³ = U01069 조건)\n",
        "density_target = merged_prop[\n",
        "    (merged_prop['측정변수명'].str.lower().str.contains('sintering density')) &\n",
        "    (merged_prop['측정단위']=='U01069')\n",
        "].copy()"
      ],
      "metadata": {
        "id": "bd7IZLT8JBBt"
      },
      "execution_count": 6,
      "outputs": []
    },
    {
      "cell_type": "code",
      "source": [
        "# 셀 9: 소재정보에서 공정노트 가져오기\n",
        "density_target = density_target.merge(\n",
        "    filtered_material[['소재시퀀스','공정노트','화학식']],\n",
        "    on='소재시퀀스',\n",
        "    how='left'\n",
        ")"
      ],
      "metadata": {
        "id": "T3Lu5teSOeo6"
      },
      "execution_count": 7,
      "outputs": []
    },
    {
      "cell_type": "code",
      "source": [
        "# 셀 9.1: sintering density로 정렬 후 공정노트 확인용 CSV 저장\n",
        "density_sorted = density_target.sort_values(\n",
        "    by='데이터',        # '데이터' 컬럼이 sintering density 값입니다\n",
        "    ascending=False     # 높은 밀도부터 정렬\n",
        ")\n",
        "\n",
        "# 필요한 컬럼만 선택해서 저장\n",
        "density_sorted[['물성시퀀스','데이터','측정단위','공정노트']].to_csv(\n",
        "    'sintering_density_process_notes.csv',\n",
        "    index=False,\n",
        "    encoding='utf-8'\n",
        ")\n",
        "\n",
        "print(\"공정노트 CSV로 저장 완료: sintering_density_process_notes.csv\")\n"
      ],
      "metadata": {
        "colab": {
          "base_uri": "https://localhost:8080/"
        },
        "id": "FFKR1uQaS2y-",
        "outputId": "69b4ff68-013c-49a6-deec-2260b1efa639"
      },
      "execution_count": 14,
      "outputs": [
        {
          "output_type": "stream",
          "name": "stdout",
          "text": [
            "공정노트 CSV로 저장 완료: sintering_density_process_notes.csv\n"
          ]
        }
      ]
    },
    {
      "cell_type": "code",
      "source": [
        "# 셀 10: 공정노트 파싱 함수 정의\n",
        "def parse_process_note(note):\n",
        "    if pd.isna(note):\n",
        "        return [None,None,None]\n",
        "    # 온도\n",
        "    tm = re.search(r'([1-2][0-9]{2,3})\\s?°?C|([1-2][0-9]{2,3})\\s?도', note)\n",
        "    temp = int(tm.group(1) or tm.group(2)) if tm else None\n",
        "    # 시간\n",
        "    ti = re.search(r'(\\d+(\\.\\d+)?)\\s?시간|(\\d+)\\s?h|(\\d+)\\s?min', note)\n",
        "    if ti:\n",
        "        hours = float(ti.group(1) or ti.group(3)) if ti.group(1) or ti.group(3) else float(ti.group(4))/60\n",
        "    else:\n",
        "        hours = None\n",
        "    # 분위기\n",
        "    atm = re.search(r'(공기|air|산소|oxygen|진공|vacuum|아르곤|argon)', note, re.IGNORECASE)\n",
        "    atm = atm.group(1) if atm else None\n",
        "    return [temp, hours, atm]"
      ],
      "metadata": {
        "id": "C9kggooORaB5"
      },
      "execution_count": 8,
      "outputs": []
    },
    {
      "cell_type": "code",
      "source": [
        "# 셀 11: 파싱 적용\n",
        "density_target[['소결온도_C','소결시간_h','소결분위기']] = density_target['공정노트']\\\n",
        "    .apply(lambda x: pd.Series(parse_process_note(x)))"
      ],
      "metadata": {
        "id": "tDocbp0JRb2X"
      },
      "execution_count": 9,
      "outputs": []
    },
    {
      "cell_type": "code",
      "source": [
        "# 셀 12: 화학식 기반 특성 추출 함수 정의\n",
        "def extract_composition_features(df):\n",
        "    elements = ['Pb','Sr','Ti','Zr','Zn','Nb','Mn','O']\n",
        "    feats = []\n",
        "    for formula in df['화학식']:\n",
        "        if pd.isna(formula):\n",
        "            feats.append([0.0]*len(elements))\n",
        "        else:\n",
        "            row = []\n",
        "            for e in elements:\n",
        "                m = re.search(f'{e}([0-9.]+)', formula)\n",
        "                row.append(float(m.group(1)) if m else 0.0)\n",
        "            feats.append(row)\n",
        "    return pd.DataFrame(feats, columns=[f'{e}_ratio' for e in elements])"
      ],
      "metadata": {
        "id": "bffjfTKvRdPO"
      },
      "execution_count": 10,
      "outputs": []
    },
    {
      "cell_type": "code",
      "source": [
        "# 셀 13: 특성 행렬 생성\n",
        "X_comp = extract_composition_features(density_target)\n",
        "X_proc = density_target[['소결온도_C','소결시간_h']]  # 분위기는 one-hot 인코딩 가능\n",
        "X = pd.concat([X_comp, X_proc], axis=1)\n",
        "y = density_target['데이터'].astype(float)"
      ],
      "metadata": {
        "id": "RunaZ4ZrRewG"
      },
      "execution_count": 11,
      "outputs": []
    },
    {
      "cell_type": "code",
      "source": [
        "# 셀 14: 모델 학습 및 평가\n",
        "from sklearn.model_selection import train_test_split\n",
        "from sklearn.ensemble import RandomForestRegressor\n",
        "from sklearn.metrics import mean_absolute_error, r2_score\n",
        "\n",
        "X_train, X_test, y_train, y_test = train_test_split(X, y, test_size=0.2, random_state=42)\n",
        "model = RandomForestRegressor(n_estimators=100, random_state=42, n_jobs=-1)\n",
        "model.fit(X_train, y_train)\n",
        "y_pred = model.predict(X_test)\n",
        "\n",
        "print('MAE:', mean_absolute_error(y_test,y_pred))\n",
        "print('R2:', r2_score(y_test,y_pred))\n"
      ],
      "metadata": {
        "colab": {
          "base_uri": "https://localhost:8080/"
        },
        "id": "2spqzylcRgBe",
        "outputId": "95f97bc6-93fe-4829-ee94-5d5f95f4bb6a"
      },
      "execution_count": 12,
      "outputs": [
        {
          "output_type": "stream",
          "name": "stdout",
          "text": [
            "MAE: 5.048265873015873\n",
            "R2: -0.06782280843326727\n"
          ]
        }
      ]
    },
    {
      "cell_type": "code",
      "source": [
        "# 셀 15: 결과 시각화 (선택)\n",
        "import matplotlib.pyplot as plt\n",
        "plt.scatter(y_test,y_pred,alpha=0.5)\n",
        "plt.plot([y_test.min(),y_test.max()],[y_test.min(),y_test.max()],'r--')\n",
        "plt.xlabel('Actual Density'); plt.ylabel('Predicted Density')\n",
        "plt.show()"
      ],
      "metadata": {
        "colab": {
          "base_uri": "https://localhost:8080/",
          "height": 449
        },
        "id": "ndAZo7_eRhqt",
        "outputId": "d38b7565-3b3d-4b8b-b027-51c06578ce15"
      },
      "execution_count": 13,
      "outputs": [
        {
          "output_type": "display_data",
          "data": {
            "text/plain": [
              "<Figure size 640x480 with 1 Axes>"
            ],
            "image/png": "[encoded data removed]"
          },
          "metadata": {}
        }
      ]
    }
  ]
}